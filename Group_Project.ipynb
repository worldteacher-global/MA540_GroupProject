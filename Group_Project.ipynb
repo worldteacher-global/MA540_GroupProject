{
 "cells": [
  {
   "cell_type": "markdown",
   "id": "37098f84",
   "metadata": {},
   "source": [
    "# Import Packages"
   ]
  },
  {
   "cell_type": "code",
   "execution_count": 42,
   "id": "f7cf5c8e",
   "metadata": {},
   "outputs": [],
   "source": [
    "import pandas as pd\n",
    "import numpy as np\n",
    "import matplotlib.pyplot as plt"
   ]
  },
  {
   "cell_type": "markdown",
   "id": "0e1110b4",
   "metadata": {},
   "source": [
    "# Pt1. Meet the data"
   ]
  },
  {
   "cell_type": "markdown",
   "id": "c6e470d4",
   "metadata": {},
   "source": [
    "##### Load Raw data "
   ]
  },
  {
   "cell_type": "markdown",
   "id": "51c5c79d",
   "metadata": {},
   "source": [
    "This data includes four columns/random variables: \n",
    "    \n",
    "* The daily ETF \n",
    "* The daily relative change in the price of the crude oil\n",
    "* The daily relative change in the gold price\n",
    "* The daily return of the JPMorgan Chase & Co stock. \n",
    "\n",
    "The sample size is 1000. "
   ]
  },
  {
   "cell_type": "code",
   "execution_count": 17,
   "id": "9806f840",
   "metadata": {},
   "outputs": [
    {
     "name": "stdout",
     "output_type": "stream",
     "text": [
      "(1000, 4)\n"
     ]
    },
    {
     "data": {
      "text/html": [
       "<div>\n",
       "<style scoped>\n",
       "    .dataframe tbody tr th:only-of-type {\n",
       "        vertical-align: middle;\n",
       "    }\n",
       "\n",
       "    .dataframe tbody tr th {\n",
       "        vertical-align: top;\n",
       "    }\n",
       "\n",
       "    .dataframe thead th {\n",
       "        text-align: right;\n",
       "    }\n",
       "</style>\n",
       "<table border=\"1\" class=\"dataframe\">\n",
       "  <thead>\n",
       "    <tr style=\"text-align: right;\">\n",
       "      <th></th>\n",
       "      <th>Close_ETF</th>\n",
       "      <th>oil</th>\n",
       "      <th>gold</th>\n",
       "      <th>JPM</th>\n",
       "    </tr>\n",
       "  </thead>\n",
       "  <tbody>\n",
       "    <tr>\n",
       "      <th>0</th>\n",
       "      <td>97.349998</td>\n",
       "      <td>0.039242</td>\n",
       "      <td>0.004668</td>\n",
       "      <td>0.032258</td>\n",
       "    </tr>\n",
       "    <tr>\n",
       "      <th>1</th>\n",
       "      <td>97.750000</td>\n",
       "      <td>0.001953</td>\n",
       "      <td>-0.001366</td>\n",
       "      <td>-0.002948</td>\n",
       "    </tr>\n",
       "    <tr>\n",
       "      <th>2</th>\n",
       "      <td>99.160004</td>\n",
       "      <td>-0.031514</td>\n",
       "      <td>-0.007937</td>\n",
       "      <td>0.025724</td>\n",
       "    </tr>\n",
       "    <tr>\n",
       "      <th>3</th>\n",
       "      <td>99.650002</td>\n",
       "      <td>0.034552</td>\n",
       "      <td>0.014621</td>\n",
       "      <td>0.011819</td>\n",
       "    </tr>\n",
       "    <tr>\n",
       "      <th>4</th>\n",
       "      <td>99.260002</td>\n",
       "      <td>0.013619</td>\n",
       "      <td>-0.011419</td>\n",
       "      <td>0.000855</td>\n",
       "    </tr>\n",
       "  </tbody>\n",
       "</table>\n",
       "</div>"
      ],
      "text/plain": [
       "   Close_ETF       oil      gold       JPM\n",
       "0  97.349998  0.039242  0.004668  0.032258\n",
       "1  97.750000  0.001953 -0.001366 -0.002948\n",
       "2  99.160004 -0.031514 -0.007937  0.025724\n",
       "3  99.650002  0.034552  0.014621  0.011819\n",
       "4  99.260002  0.013619 -0.011419  0.000855"
      ]
     },
     "execution_count": 17,
     "metadata": {},
     "output_type": "execute_result"
    }
   ],
   "source": [
    "data_df = pd.read_csv('./MA 541 Course Project Data.csv')\n",
    "\n",
    "print(data_df.shape)\n",
    "data_df.head()"
   ]
  },
  {
   "cell_type": "code",
   "execution_count": 75,
   "id": "c460e78d",
   "metadata": {},
   "outputs": [],
   "source": [
    "# data_df.describe()"
   ]
  },
  {
   "cell_type": "code",
   "execution_count": 71,
   "id": "76f71e93",
   "metadata": {},
   "outputs": [
    {
     "name": "stdout",
     "output_type": "stream",
     "text": [
      "Mean ETF:  121.1529600120001\n",
      "Mean Oil:  0.0010300354900000003\n",
      "Mean Gold:  0.0006628360819999998\n",
      "Mean JPM:  0.0005304110210000002\n",
      "Standard deviation of ETF:  12.563503845944297\n",
      "Standard deviation of Oil:  0.02108234945944757\n",
      "Standard deviation of Gold:  0.011283414317347945\n",
      "Standard deviation of JPM:  0.011011052723643009\n"
     ]
    }
   ],
   "source": [
    "# Random Variables\n",
    "\n",
    "etf_mu = np.mean(data_df.iloc[:,0])\n",
    "oil_mu = np.mean(data_df.iloc[:,1])\n",
    "gold_mu = np.mean(data_df.iloc[:,2])\n",
    "jpm_mu = np.mean(data_df.iloc[:,3])\n",
    "\n",
    "etf_std = np.std(data_df.iloc[:,0])\n",
    "oil_std = np.std(data_df.iloc[:,1])\n",
    "gold_std = np.std(data_df.iloc[:,2])\n",
    "jpm_std = np.std(data_df.iloc[:,3])\n",
    "\n",
    "print('Mean ETF: ', etf_mu)\n",
    "print('Mean Oil: ', oil_mu)\n",
    "print('Mean Gold: ', gold_mu)\n",
    "print('Mean JPM: ', jpm_mu)\n",
    "# print('\\n')\n",
    "print('Standard deviation of ETF: ', etf_std)\n",
    "print('Standard deviation of Oil: ', oil_std)\n",
    "print('Standard deviation of Gold: ', gold_std)\n",
    "print('Standard deviation of JPM: ', jpm_std)"
   ]
  },
  {
   "cell_type": "code",
   "execution_count": 74,
   "id": "309143f7",
   "metadata": {},
   "outputs": [
    {
     "data": {
      "text/plain": [
       "'Correlation matrix of Data:'"
      ]
     },
     "metadata": {},
     "output_type": "display_data"
    },
    {
     "data": {
      "text/html": [
       "<div>\n",
       "<style scoped>\n",
       "    .dataframe tbody tr th:only-of-type {\n",
       "        vertical-align: middle;\n",
       "    }\n",
       "\n",
       "    .dataframe tbody tr th {\n",
       "        vertical-align: top;\n",
       "    }\n",
       "\n",
       "    .dataframe thead th {\n",
       "        text-align: right;\n",
       "    }\n",
       "</style>\n",
       "<table border=\"1\" class=\"dataframe\">\n",
       "  <thead>\n",
       "    <tr style=\"text-align: right;\">\n",
       "      <th></th>\n",
       "      <th>Close_ETF</th>\n",
       "      <th>oil</th>\n",
       "      <th>gold</th>\n",
       "      <th>JPM</th>\n",
       "    </tr>\n",
       "  </thead>\n",
       "  <tbody>\n",
       "    <tr>\n",
       "      <th>Close_ETF</th>\n",
       "      <td>1.000000</td>\n",
       "      <td>-0.009045</td>\n",
       "      <td>0.022996</td>\n",
       "      <td>0.036807</td>\n",
       "    </tr>\n",
       "    <tr>\n",
       "      <th>oil</th>\n",
       "      <td>-0.009045</td>\n",
       "      <td>1.000000</td>\n",
       "      <td>0.235650</td>\n",
       "      <td>-0.120849</td>\n",
       "    </tr>\n",
       "    <tr>\n",
       "      <th>gold</th>\n",
       "      <td>0.022996</td>\n",
       "      <td>0.235650</td>\n",
       "      <td>1.000000</td>\n",
       "      <td>0.100170</td>\n",
       "    </tr>\n",
       "    <tr>\n",
       "      <th>JPM</th>\n",
       "      <td>0.036807</td>\n",
       "      <td>-0.120849</td>\n",
       "      <td>0.100170</td>\n",
       "      <td>1.000000</td>\n",
       "    </tr>\n",
       "  </tbody>\n",
       "</table>\n",
       "</div>"
      ],
      "text/plain": [
       "           Close_ETF       oil      gold       JPM\n",
       "Close_ETF   1.000000 -0.009045  0.022996  0.036807\n",
       "oil        -0.009045  1.000000  0.235650 -0.120849\n",
       "gold        0.022996  0.235650  1.000000  0.100170\n",
       "JPM         0.036807 -0.120849  0.100170  1.000000"
      ]
     },
     "metadata": {},
     "output_type": "display_data"
    }
   ],
   "source": [
    "data_df_correlation = data_df.corr('pearson')\n",
    "display('Correlation matrix of Data:',data_df_correlation)"
   ]
  },
  {
   "cell_type": "markdown",
   "id": "618ee757",
   "metadata": {},
   "source": [
    "# Pt2. Describe the data"
   ]
  },
  {
   "cell_type": "markdown",
   "id": "69c312bd",
   "metadata": {},
   "source": [
    "##### Exploratory Data Analysis"
   ]
  },
  {
   "cell_type": "code",
   "execution_count": 63,
   "id": "41af5d55",
   "metadata": {},
   "outputs": [
    {
     "data": {
      "image/png": "[encoded data removed]",
      "text/plain": [
       "<Figure size 432x288 with 4 Axes>"
      ]
     },
     "metadata": {
      "needs_background": "light"
     },
     "output_type": "display_data"
    }
   ],
   "source": [
    "# Distribution plot with histogram\n",
    "\n",
    "fig,ax = plt.subplots(2,2)\n",
    "    \n",
    "ax[0,0].hist(data_df.iloc[:,0],bins=150);\n",
    "ax[0,1].hist(data_df.iloc[:,1],bins=150);\n",
    "ax[1,0].hist(data_df.iloc[:,2],bins=150);\n",
    "ax[1,1].hist(data_df.iloc[:,3],bins=150);\n",
    "\n",
    "ax[0,0].title.set_text('Close_ETF')\n",
    "ax[0,1].title.set_text('Oil')\n",
    "ax[1,0].title.set_text('Gold')\n",
    "ax[1,1].title.set_text('JPM')\n",
    "\n",
    "fig.tight_layout()\n",
    "plt.show()"
   ]
  },
  {
   "cell_type": "code",
   "execution_count": 112,
   "id": "5c7f144a",
   "metadata": {},
   "outputs": [
    {
     "data": {
      "image/png": "[encoded data removed]",
      "text/plain": [
       "<Figure size 432x288 with 4 Axes>"
      ]
     },
     "metadata": {
      "needs_background": "light"
     },
     "output_type": "display_data"
    }
   ],
   "source": [
    "# Time series plot\n",
    "\n",
    "t = np.arange(1000)+1\n",
    "fig,ax = plt.subplots(2,2)\n",
    "\n",
    "ax[0,0].plot(t,data_df.iloc[:,0]);\n",
    "ax[0,1].plot(t,data_df.iloc[:,1]);\n",
    "ax[1,0].plot(t,data_df.iloc[:,2]);\n",
    "ax[1,1].plot(t,data_df.iloc[:,3]);\n",
    "\n",
    "ax[0,0].title.set_text('Close_ETF')\n",
    "ax[0,1].title.set_text('Oil')\n",
    "ax[1,0].title.set_text('Gold')\n",
    "ax[1,1].title.set_text('JPM')\n",
    "\n",
    "fig.tight_layout()\n",
    "plt.show()"
   ]
  },
  {
   "cell_type": "code",
   "execution_count": 117,
   "id": "b5854805",
   "metadata": {},
   "outputs": [
    {
     "data": {
      "image/png": "[encoded data removed]",
      "text/plain": [
       "<Figure size 432x288 with 1 Axes>"
      ]
     },
     "metadata": {
      "needs_background": "light"
     },
     "output_type": "display_data"
    }
   ],
   "source": [
    "# ax = plt.gca();\n",
    "# ax.set_ylim([-10, 165])\n",
    "# ax.plot(t,data_df)\n",
    "data_df.plot();"
   ]
  },
  {
   "cell_type": "code",
   "execution_count": 120,
   "id": "2667c77b",
   "metadata": {},
   "outputs": [
    {
     "data": {
      "image/png": "[encoded data removed]",
      "text/plain": [
       "<Figure size 432x288 with 4 Axes>"
      ]
     },
     "metadata": {
      "needs_background": "light"
     },
     "output_type": "display_data"
    }
   ],
   "source": [
    "# Scatter plot\n",
    "\n",
    "fig,ax = plt.subplots(2,2)\n",
    "\n",
    "ax[0,0].scatter(data_df.iloc[:,0],data_df.iloc[:,1]);\n",
    "ax[0,1].scatter(data_df.iloc[:,0],data_df.iloc[:,2]);\n",
    "ax[1,0].scatter(data_df.iloc[:,0],data_df.iloc[:,3]);\n",
    "\n",
    "\n",
    "ax[0,0].title.set_text('Close_ETF vs Oil')\n",
    "ax[0,1].title.set_text('Close_ETF vs Gold')\n",
    "ax[1,0].title.set_text('Close_ETF vs JPM')\n",
    "\n",
    "fig.tight_layout()\n",
    "plt.show()"
   ]
  },
  {
   "cell_type": "markdown",
   "id": "1e9258a0",
   "metadata": {},
   "source": [
    "# Pt3. Distribution of the data"
   ]
  },
  {
   "cell_type": "markdown",
   "id": "79e88088",
   "metadata": {},
   "source": [
    "Hypothesis:\n",
    "    \n",
    "* ETF follows a Multimodal distribution based on the plots in Pt2.\n",
    "* Oil follows a Normal distribution based on the plots in Pt2.\n",
    "* Gold follows a Normal distribution based on the plots in Pt2.\n",
    "* JPM follows a Normal distribution based on the plots in Pt2."
   ]
  },
  {
   "cell_type": "code",
   "execution_count": null,
   "id": "7b16405c",
   "metadata": {},
   "outputs": [],
   "source": []
  }
 ],
 "metadata": {
  "kernelspec": {
   "display_name": "Python 3 (ipykernel)",
   "language": "python",
   "name": "python3"
  },
  "language_info": {
   "codemirror_mode": {
    "name": "ipython",
    "version": 3
   },
   "file_extension": ".py",
   "mimetype": "text/x-python",
   "name": "python",
   "nbconvert_exporter": "python",
   "pygments_lexer": "ipython3",
   "version": "3.9.7"
  }
 },
 "nbformat": 4,
 "nbformat_minor": 5
}
